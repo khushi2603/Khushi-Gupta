{
  "nbformat": 4,
  "nbformat_minor": 0,
  "metadata": {
    "colab": {
      "name": "Coding_Motivation_LTG_Day#1.ipynb",
      "provenance": [],
      "include_colab_link": true
    },
    "kernelspec": {
      "name": "python3",
      "display_name": "Python 3"
    }
  },
  "cells": [
    {
      "cell_type": "markdown",
      "metadata": {
        "id": "view-in-github",
        "colab_type": "text"
      },
      "source": [
        "<a href=\"https://colab.research.google.com/github/khushi2603/Khushi-Gupta/blob/master/Coding_Motivation_LTG_Day_1.ipynb\" target=\"_parent\"><img src=\"https://colab.research.google.com/assets/colab-badge.svg\" alt=\"Open In Colab\"/></a>"
      ]
    },
    {
      "cell_type": "markdown",
      "metadata": {
        "id": "TvLNxLxSi0Xh"
      },
      "source": [
        "# **[LEARN. TEACH. GROW.](https://www.technical0812.com/betechnical) Coding + Motivation**\n",
        "\n",
        "Python with [Shobhit Sharma](https://www.linkedin.com/in/scriptkkiddie)"
      ]
    },
    {
      "cell_type": "code",
      "metadata": {
        "id": "CTT1Ai2QhIcW",
        "outputId": "9bc49070-0815-403f-9415-9cceb7c3bc7f",
        "colab": {
          "base_uri": "https://localhost:8080/",
          "height": 35
        }
      },
      "source": [
        "print(\"Hello\")"
      ],
      "execution_count": null,
      "outputs": [
        {
          "output_type": "stream",
          "text": [
            "Hello\n"
          ],
          "name": "stdout"
        }
      ]
    },
    {
      "cell_type": "markdown",
      "metadata": {
        "id": "Nkn1Bd7cM1_9"
      },
      "source": [
        "Khushi Gupta"
      ]
    },
    {
      "cell_type": "code",
      "metadata": {
        "id": "GUUtySh1M2wT",
        "outputId": "92298df4-6a14-49c7-faf4-a1c783295d8b",
        "colab": {
          "base_uri": "https://localhost:8080/",
          "height": 34
        }
      },
      "source": [
        "print(\"Hello! A member of LTG\")"
      ],
      "execution_count": 2,
      "outputs": [
        {
          "output_type": "stream",
          "text": [
            "Hello! A member of LTG\n"
          ],
          "name": "stdout"
        }
      ]
    }
  ]
}